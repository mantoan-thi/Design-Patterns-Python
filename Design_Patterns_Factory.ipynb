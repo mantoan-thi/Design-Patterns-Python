{
  "nbformat": 4,
  "nbformat_minor": 0,
  "metadata": {
    "colab": {
      "name": "Design Patterns - Factory.ipynb",
      "provenance": [],
      "collapsed_sections": [],
      "authorship_tag": "ABX9TyMDvsJmjLSH3LSJ3QYNZmpo",
      "include_colab_link": true
    },
    "kernelspec": {
      "name": "python3",
      "display_name": "Python 3"
    },
    "language_info": {
      "name": "python"
    }
  },
  "cells": [
    {
      "cell_type": "markdown",
      "metadata": {
        "id": "view-in-github",
        "colab_type": "text"
      },
      "source": [
        "<a href=\"https://colab.research.google.com/github/mantoan-thi/Design-Patterns-Python/blob/main/Design_Patterns_Factory.ipynb\" target=\"_parent\"><img src=\"https://colab.research.google.com/assets/colab-badge.svg\" alt=\"Open In Colab\"/></a>"
      ]
    },
    {
      "cell_type": "markdown",
      "metadata": {
        "id": "TMvsq-wQjiYm"
      },
      "source": [
        "#Factory Method, é um padrão de projeto que permite às classes delegar para subclasses decidire."
      ]
    },
    {
      "cell_type": "code",
      "metadata": {
        "id": "-1O6DXNzVttO"
      },
      "source": [
        "from __future__ import annotations\n",
        "from abc import ABCMeta, abstractmethod"
      ],
      "execution_count": null,
      "outputs": []
    },
    {
      "cell_type": "code",
      "metadata": {
        "id": "rO_lbD0sV-DF"
      },
      "source": [
        "class Car(object):\n",
        "\n",
        "    def factory(type):\n",
        "        if type == \"Racecar\":\n",
        "            return Racecar()\n",
        "        if type == \"Van\":\n",
        "            return Van()\n",
        "        assert 0, \"Bad car creation: \" + type\n",
        "\n",
        "    factory = staticmethod(factory)\n",
        "\n",
        "class Racecar(Car):\n",
        "    def drive(self): print(\"Racecar driving.\")\n",
        "\n",
        "class Van(Car):\n",
        "    def drive(self): print(\"Van driving.\")\n"
      ],
      "execution_count": 73,
      "outputs": []
    },
    {
      "cell_type": "code",
      "metadata": {
        "colab": {
          "base_uri": "https://localhost:8080/"
        },
        "id": "SgDOCG3mjIJL",
        "outputId": "0276714d-c4a6-4798-832f-cb2bfc5aa6dc"
      },
      "source": [
        "#Criar objeto usando factory.\n",
        "obj = Car.factory(\"Racecar\")\n",
        "obj.drive()"
      ],
      "execution_count": 74,
      "outputs": [
        {
          "output_type": "stream",
          "name": "stdout",
          "text": [
            "Racecar driving.\n"
          ]
        }
      ]
    }
  ]
}